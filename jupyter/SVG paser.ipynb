{
 "cells": [
  {
   "cell_type": "code",
   "execution_count": 22,
   "metadata": {},
   "outputs": [],
   "source": [
    "import json"
   ]
  },
  {
   "cell_type": "code",
   "execution_count": 23,
   "metadata": {},
   "outputs": [],
   "source": [
    "def style(line):\n",
    "    classes = line.split(\".\")\n",
    "    class_dict ={}\n",
    "    for c in classes:\n",
    "        c = c.replace(\"}\",\"\")\n",
    "        s = c.split(\"{\")\n",
    "        c_id = s[0]\n",
    "        if len(s)>1:\n",
    "            if c_id not in class_dict:\n",
    "                class_dict[c_id]={}\n",
    "            a = str(s[1])\n",
    "            formats = a.split(\";\")\n",
    "            for f in formats:\n",
    "                if len(f)>2:\n",
    "                    fsplit = f.split(\":\")\n",
    "                    if \"<\" not in fsplit[0]:\n",
    "                        if len(fsplit)>1:\n",
    "                            class_dict[c_id][fsplit[0]]=fsplit[1]\n",
    "        else:\n",
    "            if class_dict:\n",
    "                s = c.split(\",\")[0]\n",
    "                if s in class_dict:\n",
    "                    del class_dict[s]\n",
    "    return(class_dict)\n",
    "            "
   ]
  },
  {
   "cell_type": "code",
   "execution_count": 24,
   "metadata": {},
   "outputs": [],
   "source": [
    "def extract(svgtype,lines,i,style_dict):\n",
    "    i+=1\n",
    "    attributes = {}\n",
    "    flag = True;\n",
    "    while \"/>\" not in lines[i]:\n",
    "        line = lines[i].replace('\"','')\n",
    "        actions = line.strip().split(\"=\")\n",
    "        if actions[0]==\"class\":\n",
    "            class_id = actions[1]\n",
    "            if class_id in style_dict:\n",
    "                attributes = style_dict[class_id].copy()\n",
    "            else:\n",
    "                flag = False\n",
    "        else:\n",
    "            if flag:\n",
    "                attributes[actions[0]]=actions[1]\n",
    "        i+=1\n",
    "    svg_element = {\"svgtype\":svgtype,\"attributes\":attributes}\n",
    "    return (i,svg_element)"
   ]
  },
  {
   "cell_type": "code",
   "execution_count": 25,
   "metadata": {
    "scrolled": false
   },
   "outputs": [],
   "source": [
    "def parse(file_name):\n",
    "    file_in = open(file_name+'.svg','r')\n",
    "    file_out = open(file_name+'.json','w')    \n",
    "\n",
    "\n",
    "    lines = file_in.readlines() \n",
    "    style_dict = {}\n",
    "    strokes=[]\n",
    "    flag = False\n",
    "    # Strips the newline character \n",
    "    count = 0\n",
    "    for i in range(len(lines)): \n",
    "        if \"<style\" in lines[i]:\n",
    "            i+=1\n",
    "            style_dict = style(lines[i].strip())\n",
    "            flag = True\n",
    "        if (\"<\" in lines[i]) and (flag):\n",
    "            svg_type = lines[i].strip().replace(\"<\",\"\")\n",
    "            if \">\" not in svg_type:\n",
    "                i, svg_elemnet = extract(svg_type,lines,i,style_dict)\n",
    "                svg_elemnet[\"count\"]= count\n",
    "                strokes.append(svg_elemnet)\n",
    "                #print(svg_elemnet)\n",
    "                count+=1\n",
    "    s = json.dumps({file_name:strokes})\n",
    "    file_out.write(s)\n",
    "    file_in.close()\n",
    "    file_out.close()"
   ]
  },
  {
   "cell_type": "code",
   "execution_count": 27,
   "metadata": {
    "scrolled": false
   },
   "outputs": [],
   "source": [
    "#/home/ric/Projects/Comic/Sandbox/img/torso_arms_crossed-01.svg\n",
    "parse('torso_colour_test-02')\n",
    "parse('head_colour_test-03')\n"
   ]
  },
  {
   "cell_type": "code",
   "execution_count": null,
   "metadata": {},
   "outputs": [],
   "source": []
  }
 ],
 "metadata": {
  "kernelspec": {
   "display_name": "Python 3",
   "language": "python",
   "name": "python3"
  },
  "language_info": {
   "codemirror_mode": {
    "name": "ipython",
    "version": 3
   },
   "file_extension": ".py",
   "mimetype": "text/x-python",
   "name": "python",
   "nbconvert_exporter": "python",
   "pygments_lexer": "ipython3",
   "version": "3.8.5"
  }
 },
 "nbformat": 4,
 "nbformat_minor": 4
}
